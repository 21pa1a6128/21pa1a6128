{
  "cells": [
    {
      "cell_type": "markdown",
      "metadata": {
        "id": "view-in-github",
        "colab_type": "text"
      },
      "source": [
        "<a href=\"https://colab.research.google.com/github/21pa1a6128/21pa1a6128/blob/main/Stock_Price_Prediction_using_LSTM.ipynb\" target=\"_parent\"><img src=\"https://colab.research.google.com/assets/colab-badge.svg\" alt=\"Open In Colab\"/></a>"
      ]
    },
    {
      "cell_type": "markdown",
      "source": [
        "# **Experiment-12**"
      ],
      "metadata": {
        "id": "itCDPzM1gV7n"
      }
    },
    {
      "cell_type": "markdown",
      "source": [
        "**Long Short Term Memory** networks – usually just called “LSTMs” – are a special kind of RNN, capable of learning long-term dependencies. Introduced by Hochreiter & Schmidhuber (1997), and were refined and popularized by many people in following work. They work tremendously well on a large variety of problems, and are now widely used.\n",
        "\n",
        "LSTMs are explicitly designed to avoid the long-term dependency problem. Remembering information for long periods of time is practically their default behavior, not something they struggle to learn!\n",
        "\n",
        "All recurrent neural networks have the form of a chain of repeating modules of neural network."
      ],
      "metadata": {
        "id": "DeWWAzbvpIIy"
      }
    },
    {
      "cell_type": "code",
      "execution_count": 3,
      "metadata": {
        "_cell_guid": "f366cf34-f601-7e9b-53e5-5b4e2713044f",
        "id": "WurOFJcDlbp_"
      },
      "outputs": [],
      "source": [
        "import numpy as np # linear algebra\n",
        "import pandas as pd # data processing, CSV file I/O (e.g. pd.read_csv)\n",
        "\n",
        "from subprocess import check_output\n",
        "from keras.layers import Dense, Activation, Dropout\n",
        "from keras.layers import LSTM\n",
        "from keras.models import Sequential\n",
        "from sklearn.model_selection import train_test_split\n",
        "import time #helper libraries\n",
        "from sklearn.preprocessing import MinMaxScaler\n",
        "import matplotlib.pyplot as plt\n",
        "from numpy import newaxis"
      ]
    },
    {
      "cell_type": "code",
      "execution_count": 6,
      "metadata": {
        "_cell_guid": "e7c1344f-59af-8372-0376-940a72566da6",
        "colab": {
          "base_uri": "https://localhost:8080/",
          "height": 424
        },
        "id": "LZnsEnxXlbqB",
        "outputId": "434d3e7b-df6c-4971-8a6e-df609c6c334a"
      },
      "outputs": [
        {
          "output_type": "execute_result",
          "data": {
            "text/plain": [
              "                       date symbol        open       close         low  \\\n",
              "0       2016-01-05 00:00:00   WLTW  123.430000  125.839996  122.309998   \n",
              "1       2016-01-06 00:00:00   WLTW  125.239998  119.980003  119.940002   \n",
              "2       2016-01-07 00:00:00   WLTW  116.379997  114.949997  114.930000   \n",
              "3       2016-01-08 00:00:00   WLTW  115.480003  116.620003  113.500000   \n",
              "4       2016-01-11 00:00:00   WLTW  117.010002  114.970001  114.089996   \n",
              "...                     ...    ...         ...         ...         ...   \n",
              "851259           2016-12-30    ZBH  103.309998  103.199997  102.849998   \n",
              "851260           2016-12-30   ZION   43.070000   43.040001   42.689999   \n",
              "851261           2016-12-30    ZTS   53.639999   53.529999   53.270000   \n",
              "851262  2016-12-30 00:00:00    AIV   44.730000   45.450001   44.410000   \n",
              "851263  2016-12-30 00:00:00    FTV   54.200001   53.630001   53.389999   \n",
              "\n",
              "              high     volume  \n",
              "0       126.250000  2163600.0  \n",
              "1       125.540001  2386400.0  \n",
              "2       119.739998  2489500.0  \n",
              "3       117.440002  2006300.0  \n",
              "4       117.330002  1408600.0  \n",
              "...            ...        ...  \n",
              "851259  103.930000   973800.0  \n",
              "851260   43.310001  1938100.0  \n",
              "851261   53.740002  1701200.0  \n",
              "851262   45.590000  1380900.0  \n",
              "851263   54.480000   705100.0  \n",
              "\n",
              "[851264 rows x 7 columns]"
            ],
            "text/html": [
              "\n",
              "  <div id=\"df-bf4ff26e-314f-45aa-a007-cc32936077d6\" class=\"colab-df-container\">\n",
              "    <div>\n",
              "<style scoped>\n",
              "    .dataframe tbody tr th:only-of-type {\n",
              "        vertical-align: middle;\n",
              "    }\n",
              "\n",
              "    .dataframe tbody tr th {\n",
              "        vertical-align: top;\n",
              "    }\n",
              "\n",
              "    .dataframe thead th {\n",
              "        text-align: right;\n",
              "    }\n",
              "</style>\n",
              "<table border=\"1\" class=\"dataframe\">\n",
              "  <thead>\n",
              "    <tr style=\"text-align: right;\">\n",
              "      <th></th>\n",
              "      <th>date</th>\n",
              "      <th>symbol</th>\n",
              "      <th>open</th>\n",
              "      <th>close</th>\n",
              "      <th>low</th>\n",
              "      <th>high</th>\n",
              "      <th>volume</th>\n",
              "    </tr>\n",
              "  </thead>\n",
              "  <tbody>\n",
              "    <tr>\n",
              "      <th>0</th>\n",
              "      <td>2016-01-05 00:00:00</td>\n",
              "      <td>WLTW</td>\n",
              "      <td>123.430000</td>\n",
              "      <td>125.839996</td>\n",
              "      <td>122.309998</td>\n",
              "      <td>126.250000</td>\n",
              "      <td>2163600.0</td>\n",
              "    </tr>\n",
              "    <tr>\n",
              "      <th>1</th>\n",
              "      <td>2016-01-06 00:00:00</td>\n",
              "      <td>WLTW</td>\n",
              "      <td>125.239998</td>\n",
              "      <td>119.980003</td>\n",
              "      <td>119.940002</td>\n",
              "      <td>125.540001</td>\n",
              "      <td>2386400.0</td>\n",
              "    </tr>\n",
              "    <tr>\n",
              "      <th>2</th>\n",
              "      <td>2016-01-07 00:00:00</td>\n",
              "      <td>WLTW</td>\n",
              "      <td>116.379997</td>\n",
              "      <td>114.949997</td>\n",
              "      <td>114.930000</td>\n",
              "      <td>119.739998</td>\n",
              "      <td>2489500.0</td>\n",
              "    </tr>\n",
              "    <tr>\n",
              "      <th>3</th>\n",
              "      <td>2016-01-08 00:00:00</td>\n",
              "      <td>WLTW</td>\n",
              "      <td>115.480003</td>\n",
              "      <td>116.620003</td>\n",
              "      <td>113.500000</td>\n",
              "      <td>117.440002</td>\n",
              "      <td>2006300.0</td>\n",
              "    </tr>\n",
              "    <tr>\n",
              "      <th>4</th>\n",
              "      <td>2016-01-11 00:00:00</td>\n",
              "      <td>WLTW</td>\n",
              "      <td>117.010002</td>\n",
              "      <td>114.970001</td>\n",
              "      <td>114.089996</td>\n",
              "      <td>117.330002</td>\n",
              "      <td>1408600.0</td>\n",
              "    </tr>\n",
              "    <tr>\n",
              "      <th>...</th>\n",
              "      <td>...</td>\n",
              "      <td>...</td>\n",
              "      <td>...</td>\n",
              "      <td>...</td>\n",
              "      <td>...</td>\n",
              "      <td>...</td>\n",
              "      <td>...</td>\n",
              "    </tr>\n",
              "    <tr>\n",
              "      <th>851259</th>\n",
              "      <td>2016-12-30</td>\n",
              "      <td>ZBH</td>\n",
              "      <td>103.309998</td>\n",
              "      <td>103.199997</td>\n",
              "      <td>102.849998</td>\n",
              "      <td>103.930000</td>\n",
              "      <td>973800.0</td>\n",
              "    </tr>\n",
              "    <tr>\n",
              "      <th>851260</th>\n",
              "      <td>2016-12-30</td>\n",
              "      <td>ZION</td>\n",
              "      <td>43.070000</td>\n",
              "      <td>43.040001</td>\n",
              "      <td>42.689999</td>\n",
              "      <td>43.310001</td>\n",
              "      <td>1938100.0</td>\n",
              "    </tr>\n",
              "    <tr>\n",
              "      <th>851261</th>\n",
              "      <td>2016-12-30</td>\n",
              "      <td>ZTS</td>\n",
              "      <td>53.639999</td>\n",
              "      <td>53.529999</td>\n",
              "      <td>53.270000</td>\n",
              "      <td>53.740002</td>\n",
              "      <td>1701200.0</td>\n",
              "    </tr>\n",
              "    <tr>\n",
              "      <th>851262</th>\n",
              "      <td>2016-12-30 00:00:00</td>\n",
              "      <td>AIV</td>\n",
              "      <td>44.730000</td>\n",
              "      <td>45.450001</td>\n",
              "      <td>44.410000</td>\n",
              "      <td>45.590000</td>\n",
              "      <td>1380900.0</td>\n",
              "    </tr>\n",
              "    <tr>\n",
              "      <th>851263</th>\n",
              "      <td>2016-12-30 00:00:00</td>\n",
              "      <td>FTV</td>\n",
              "      <td>54.200001</td>\n",
              "      <td>53.630001</td>\n",
              "      <td>53.389999</td>\n",
              "      <td>54.480000</td>\n",
              "      <td>705100.0</td>\n",
              "    </tr>\n",
              "  </tbody>\n",
              "</table>\n",
              "<p>851264 rows × 7 columns</p>\n",
              "</div>\n",
              "    <div class=\"colab-df-buttons\">\n",
              "\n",
              "  <div class=\"colab-df-container\">\n",
              "    <button class=\"colab-df-convert\" onclick=\"convertToInteractive('df-bf4ff26e-314f-45aa-a007-cc32936077d6')\"\n",
              "            title=\"Convert this dataframe to an interactive table.\"\n",
              "            style=\"display:none;\">\n",
              "\n",
              "  <svg xmlns=\"http://www.w3.org/2000/svg\" height=\"24px\" viewBox=\"0 -960 960 960\">\n",
              "    <path d=\"M120-120v-720h720v720H120Zm60-500h600v-160H180v160Zm220 220h160v-160H400v160Zm0 220h160v-160H400v160ZM180-400h160v-160H180v160Zm440 0h160v-160H620v160ZM180-180h160v-160H180v160Zm440 0h160v-160H620v160Z\"/>\n",
              "  </svg>\n",
              "    </button>\n",
              "\n",
              "  <style>\n",
              "    .colab-df-container {\n",
              "      display:flex;\n",
              "      gap: 12px;\n",
              "    }\n",
              "\n",
              "    .colab-df-convert {\n",
              "      background-color: #E8F0FE;\n",
              "      border: none;\n",
              "      border-radius: 50%;\n",
              "      cursor: pointer;\n",
              "      display: none;\n",
              "      fill: #1967D2;\n",
              "      height: 32px;\n",
              "      padding: 0 0 0 0;\n",
              "      width: 32px;\n",
              "    }\n",
              "\n",
              "    .colab-df-convert:hover {\n",
              "      background-color: #E2EBFA;\n",
              "      box-shadow: 0px 1px 2px rgba(60, 64, 67, 0.3), 0px 1px 3px 1px rgba(60, 64, 67, 0.15);\n",
              "      fill: #174EA6;\n",
              "    }\n",
              "\n",
              "    .colab-df-buttons div {\n",
              "      margin-bottom: 4px;\n",
              "    }\n",
              "\n",
              "    [theme=dark] .colab-df-convert {\n",
              "      background-color: #3B4455;\n",
              "      fill: #D2E3FC;\n",
              "    }\n",
              "\n",
              "    [theme=dark] .colab-df-convert:hover {\n",
              "      background-color: #434B5C;\n",
              "      box-shadow: 0px 1px 3px 1px rgba(0, 0, 0, 0.15);\n",
              "      filter: drop-shadow(0px 1px 2px rgba(0, 0, 0, 0.3));\n",
              "      fill: #FFFFFF;\n",
              "    }\n",
              "  </style>\n",
              "\n",
              "    <script>\n",
              "      const buttonEl =\n",
              "        document.querySelector('#df-bf4ff26e-314f-45aa-a007-cc32936077d6 button.colab-df-convert');\n",
              "      buttonEl.style.display =\n",
              "        google.colab.kernel.accessAllowed ? 'block' : 'none';\n",
              "\n",
              "      async function convertToInteractive(key) {\n",
              "        const element = document.querySelector('#df-bf4ff26e-314f-45aa-a007-cc32936077d6');\n",
              "        const dataTable =\n",
              "          await google.colab.kernel.invokeFunction('convertToInteractive',\n",
              "                                                    [key], {});\n",
              "        if (!dataTable) return;\n",
              "\n",
              "        const docLinkHtml = 'Like what you see? Visit the ' +\n",
              "          '<a target=\"_blank\" href=https://colab.research.google.com/notebooks/data_table.ipynb>data table notebook</a>'\n",
              "          + ' to learn more about interactive tables.';\n",
              "        element.innerHTML = '';\n",
              "        dataTable['output_type'] = 'display_data';\n",
              "        await google.colab.output.renderOutput(dataTable, element);\n",
              "        const docLink = document.createElement('div');\n",
              "        docLink.innerHTML = docLinkHtml;\n",
              "        element.appendChild(docLink);\n",
              "      }\n",
              "    </script>\n",
              "  </div>\n",
              "\n",
              "\n",
              "<div id=\"df-d589a092-96a5-4939-a932-4d81a7a02392\">\n",
              "  <button class=\"colab-df-quickchart\" onclick=\"quickchart('df-d589a092-96a5-4939-a932-4d81a7a02392')\"\n",
              "            title=\"Suggest charts\"\n",
              "            style=\"display:none;\">\n",
              "\n",
              "<svg xmlns=\"http://www.w3.org/2000/svg\" height=\"24px\"viewBox=\"0 0 24 24\"\n",
              "     width=\"24px\">\n",
              "    <g>\n",
              "        <path d=\"M19 3H5c-1.1 0-2 .9-2 2v14c0 1.1.9 2 2 2h14c1.1 0 2-.9 2-2V5c0-1.1-.9-2-2-2zM9 17H7v-7h2v7zm4 0h-2V7h2v10zm4 0h-2v-4h2v4z\"/>\n",
              "    </g>\n",
              "</svg>\n",
              "  </button>\n",
              "\n",
              "<style>\n",
              "  .colab-df-quickchart {\n",
              "      --bg-color: #E8F0FE;\n",
              "      --fill-color: #1967D2;\n",
              "      --hover-bg-color: #E2EBFA;\n",
              "      --hover-fill-color: #174EA6;\n",
              "      --disabled-fill-color: #AAA;\n",
              "      --disabled-bg-color: #DDD;\n",
              "  }\n",
              "\n",
              "  [theme=dark] .colab-df-quickchart {\n",
              "      --bg-color: #3B4455;\n",
              "      --fill-color: #D2E3FC;\n",
              "      --hover-bg-color: #434B5C;\n",
              "      --hover-fill-color: #FFFFFF;\n",
              "      --disabled-bg-color: #3B4455;\n",
              "      --disabled-fill-color: #666;\n",
              "  }\n",
              "\n",
              "  .colab-df-quickchart {\n",
              "    background-color: var(--bg-color);\n",
              "    border: none;\n",
              "    border-radius: 50%;\n",
              "    cursor: pointer;\n",
              "    display: none;\n",
              "    fill: var(--fill-color);\n",
              "    height: 32px;\n",
              "    padding: 0;\n",
              "    width: 32px;\n",
              "  }\n",
              "\n",
              "  .colab-df-quickchart:hover {\n",
              "    background-color: var(--hover-bg-color);\n",
              "    box-shadow: 0 1px 2px rgba(60, 64, 67, 0.3), 0 1px 3px 1px rgba(60, 64, 67, 0.15);\n",
              "    fill: var(--button-hover-fill-color);\n",
              "  }\n",
              "\n",
              "  .colab-df-quickchart-complete:disabled,\n",
              "  .colab-df-quickchart-complete:disabled:hover {\n",
              "    background-color: var(--disabled-bg-color);\n",
              "    fill: var(--disabled-fill-color);\n",
              "    box-shadow: none;\n",
              "  }\n",
              "\n",
              "  .colab-df-spinner {\n",
              "    border: 2px solid var(--fill-color);\n",
              "    border-color: transparent;\n",
              "    border-bottom-color: var(--fill-color);\n",
              "    animation:\n",
              "      spin 1s steps(1) infinite;\n",
              "  }\n",
              "\n",
              "  @keyframes spin {\n",
              "    0% {\n",
              "      border-color: transparent;\n",
              "      border-bottom-color: var(--fill-color);\n",
              "      border-left-color: var(--fill-color);\n",
              "    }\n",
              "    20% {\n",
              "      border-color: transparent;\n",
              "      border-left-color: var(--fill-color);\n",
              "      border-top-color: var(--fill-color);\n",
              "    }\n",
              "    30% {\n",
              "      border-color: transparent;\n",
              "      border-left-color: var(--fill-color);\n",
              "      border-top-color: var(--fill-color);\n",
              "      border-right-color: var(--fill-color);\n",
              "    }\n",
              "    40% {\n",
              "      border-color: transparent;\n",
              "      border-right-color: var(--fill-color);\n",
              "      border-top-color: var(--fill-color);\n",
              "    }\n",
              "    60% {\n",
              "      border-color: transparent;\n",
              "      border-right-color: var(--fill-color);\n",
              "    }\n",
              "    80% {\n",
              "      border-color: transparent;\n",
              "      border-right-color: var(--fill-color);\n",
              "      border-bottom-color: var(--fill-color);\n",
              "    }\n",
              "    90% {\n",
              "      border-color: transparent;\n",
              "      border-bottom-color: var(--fill-color);\n",
              "    }\n",
              "  }\n",
              "</style>\n",
              "\n",
              "  <script>\n",
              "    async function quickchart(key) {\n",
              "      const quickchartButtonEl =\n",
              "        document.querySelector('#' + key + ' button');\n",
              "      quickchartButtonEl.disabled = true;  // To prevent multiple clicks.\n",
              "      quickchartButtonEl.classList.add('colab-df-spinner');\n",
              "      try {\n",
              "        const charts = await google.colab.kernel.invokeFunction(\n",
              "            'suggestCharts', [key], {});\n",
              "      } catch (error) {\n",
              "        console.error('Error during call to suggestCharts:', error);\n",
              "      }\n",
              "      quickchartButtonEl.classList.remove('colab-df-spinner');\n",
              "      quickchartButtonEl.classList.add('colab-df-quickchart-complete');\n",
              "    }\n",
              "    (() => {\n",
              "      let quickchartButtonEl =\n",
              "        document.querySelector('#df-d589a092-96a5-4939-a932-4d81a7a02392 button');\n",
              "      quickchartButtonEl.style.display =\n",
              "        google.colab.kernel.accessAllowed ? 'block' : 'none';\n",
              "    })();\n",
              "  </script>\n",
              "</div>\n",
              "    </div>\n",
              "  </div>\n"
            ],
            "application/vnd.google.colaboratory.intrinsic+json": {
              "type": "dataframe",
              "variable_name": "prices_dataset"
            }
          },
          "metadata": {},
          "execution_count": 6
        }
      ],
      "source": [
        "prices_dataset =  pd.read_csv('/content/drive/MyDrive/prices.csv',header=0)\n",
        "prices_dataset"
      ]
    },
    {
      "cell_type": "code",
      "execution_count": 10,
      "metadata": {
        "_cell_guid": "afbaa2e6-6f36-7726-bff0-399b365382fb",
        "colab": {
          "base_uri": "https://localhost:8080/"
        },
        "id": "nCiIXjt0lbqB",
        "outputId": "ab186ea6-1968-49aa-f0bd-445d7f7aa3f7"
      },
      "outputs": [
        {
          "output_type": "execute_result",
          "data": {
            "text/plain": [
              "(1762, 1)"
            ]
          },
          "metadata": {},
          "execution_count": 10
        }
      ],
      "source": [
        "yahoo = prices_dataset[prices_dataset['symbol']=='YHOO']\n",
        "yahoo_stock_prices = yahoo.close.values.astype('float32')\n",
        "yahoo_stock_prices = yahoo_stock_prices.reshape(1762, 1)\n",
        "yahoo_stock_prices.shape"
      ]
    },
    {
      "cell_type": "code",
      "source": [
        "from google.colab import drive\n",
        "drive.mount('/content/drive')"
      ],
      "metadata": {
        "id": "C3nV8uzbPq45",
        "outputId": "c6c0e3af-ae1c-44e2-f5c0-64b7587b5ba3",
        "colab": {
          "base_uri": "https://localhost:8080/"
        }
      },
      "execution_count": 11,
      "outputs": [
        {
          "output_type": "stream",
          "name": "stdout",
          "text": [
            "Drive already mounted at /content/drive; to attempt to forcibly remount, call drive.mount(\"/content/drive\", force_remount=True).\n"
          ]
        }
      ]
    },
    {
      "cell_type": "code",
      "execution_count": 12,
      "metadata": {
        "_cell_guid": "a7fe4936-c44b-1788-a16b-35b5b1eb675c",
        "colab": {
          "base_uri": "https://localhost:8080/",
          "height": 430
        },
        "id": "5J1HQtjalbqD",
        "outputId": "a821ae94-1a71-443c-a8e0-edfdc5bfb5e7"
      },
      "outputs": [
        {
          "output_type": "display_data",
          "data": {
            "text/plain": [
              "<Figure size 640x480 with 1 Axes>"
            ],
            "image/png": "[encoded data removed]"
          },
          "metadata": {}
        }
      ],
      "source": [
        "plt.plot(yahoo_stock_prices)\n",
        "plt.show()\n",
        "\n",
        "scaler = MinMaxScaler(feature_range=(0, 1))\n",
        "yahoo_stock_prices = scaler.fit_transform(yahoo_stock_prices)"
      ]
    },
    {
      "cell_type": "code",
      "execution_count": 13,
      "metadata": {
        "_cell_guid": "2f69042b-d335-b8ff-ec17-980189526e7d",
        "colab": {
          "base_uri": "https://localhost:8080/"
        },
        "id": "2TEb-aFplbqE",
        "outputId": "4582dcd0-cf2a-41e0-ba1c-8563d406095b"
      },
      "outputs": [
        {
          "output_type": "stream",
          "name": "stdout",
          "text": [
            "1409 353\n"
          ]
        }
      ],
      "source": [
        "train_size = int(len(yahoo_stock_prices) * 0.80)\n",
        "test_size = len(yahoo_stock_prices) - train_size\n",
        "train, test = yahoo_stock_prices[0:train_size,:], yahoo_stock_prices[train_size:len(yahoo_stock_prices),:]\n",
        "print(len(train), len(test))"
      ]
    },
    {
      "cell_type": "code",
      "execution_count": 14,
      "metadata": {
        "_cell_guid": "f9d24454-e0a4-a6e5-f04f-1b46b810158c",
        "id": "fppEaf9UlbqE"
      },
      "outputs": [],
      "source": [
        "# convert an array of values into a dataset matrix\n",
        "def create_dataset(dataset, look_back=1):\n",
        "\tdataX, dataY = [], []\n",
        "\tfor i in range(len(dataset)-look_back-1):\n",
        "\t\ta = dataset[i:(i+look_back), 0]\n",
        "\t\tdataX.append(a)\n",
        "\t\tdataY.append(dataset[i + look_back, 0])\n",
        "\treturn np.array(dataX), np.array(dataY)"
      ]
    },
    {
      "cell_type": "code",
      "execution_count": 15,
      "metadata": {
        "_cell_guid": "17f5bc9d-47ad-2206-71cd-e85ecac42175",
        "id": "eo3GYwb3lbqF"
      },
      "outputs": [],
      "source": [
        "# reshape into X=t and Y=t+1\n",
        "look_back = 1\n",
        "trainX, trainY = create_dataset(train, look_back)\n",
        "testX, testY = create_dataset(test, look_back)"
      ]
    },
    {
      "cell_type": "code",
      "execution_count": 16,
      "metadata": {
        "_cell_guid": "a74ff89f-d274-de8c-f11c-bf2ffaf29eed",
        "id": "rlekwJvclbqF"
      },
      "outputs": [],
      "source": [
        "trainX = np.reshape(trainX, (trainX.shape[0], 1, trainX.shape[1]))\n",
        "testX = np.reshape(testX, (testX.shape[0], 1, testX.shape[1]))"
      ]
    },
    {
      "cell_type": "code",
      "execution_count": 17,
      "metadata": {
        "_cell_guid": "6e379f90-c703-6712-12ed-9aa0942a5408",
        "colab": {
          "base_uri": "https://localhost:8080/"
        },
        "id": "-y7Gyo5klbqG",
        "outputId": "8e087c7c-e685-4f72-923e-4ecb16e09d16"
      },
      "outputs": [
        {
          "output_type": "stream",
          "name": "stdout",
          "text": [
            "compilation time :  0.022960424423217773\n"
          ]
        }
      ],
      "source": [
        "#Step 2 Build Model\n",
        "model = Sequential()\n",
        "\n",
        "model.add(LSTM(units=50, return_sequences=True, input_shape=(trainX.shape[1], 1)))\n",
        "model.add(Dropout(0.2))\n",
        "\n",
        "model.add(LSTM(\n",
        "    100,\n",
        "    return_sequences=False))\n",
        "model.add(Dropout(0.2))\n",
        "\n",
        "model.add(Dense(units=1))\n",
        "model.add(Activation('linear'))\n",
        "\n",
        "start = time.time()\n",
        "model.compile(loss='mse', optimizer='rmsprop')\n",
        "print ('compilation time : ', time.time() - start)"
      ]
    },
    {
      "cell_type": "code",
      "execution_count": 18,
      "metadata": {
        "_cell_guid": "e668a235-00fe-4fe3-925b-99051ae376f9",
        "colab": {
          "base_uri": "https://localhost:8080/"
        },
        "id": "bHmUhPXXlbqG",
        "outputId": "ac29c25a-3578-4cdc-8963-a83e04ab42bc"
      },
      "outputs": [
        {
          "output_type": "stream",
          "name": "stdout",
          "text": [
            "Epoch 1/10\n",
            "11/11 [==============================] - 6s 101ms/step - loss: 0.1472 - val_loss: 0.3806\n",
            "Epoch 2/10\n",
            "11/11 [==============================] - 0s 10ms/step - loss: 0.1025 - val_loss: 0.2591\n",
            "Epoch 3/10\n",
            "11/11 [==============================] - 0s 15ms/step - loss: 0.0700 - val_loss: 0.1651\n",
            "Epoch 4/10\n",
            "11/11 [==============================] - 0s 13ms/step - loss: 0.0541 - val_loss: 0.1077\n",
            "Epoch 5/10\n",
            "11/11 [==============================] - 0s 13ms/step - loss: 0.0456 - val_loss: 0.0821\n",
            "Epoch 6/10\n",
            "11/11 [==============================] - 0s 14ms/step - loss: 0.0390 - val_loss: 0.0605\n",
            "Epoch 7/10\n",
            "11/11 [==============================] - 0s 16ms/step - loss: 0.0308 - val_loss: 0.0560\n",
            "Epoch 8/10\n",
            "11/11 [==============================] - 0s 15ms/step - loss: 0.0221 - val_loss: 0.0327\n",
            "Epoch 9/10\n",
            "11/11 [==============================] - 0s 10ms/step - loss: 0.0143 - val_loss: 0.0250\n",
            "Epoch 10/10\n",
            "11/11 [==============================] - 0s 10ms/step - loss: 0.0081 - val_loss: 0.0079\n"
          ]
        },
        {
          "output_type": "execute_result",
          "data": {
            "text/plain": [
              "<keras.src.callbacks.History at 0x7d32631dfc70>"
            ]
          },
          "metadata": {},
          "execution_count": 18
        }
      ],
      "source": [
        "model.fit(\n",
        "    trainX,\n",
        "    trainY,\n",
        "    batch_size=128,\n",
        "    epochs=10,\n",
        "    validation_split=0.05)"
      ]
    },
    {
      "cell_type": "markdown",
      "metadata": {
        "_cell_guid": "47e1110a-81cc-20f8-4157-39b83e000cd7",
        "id": "-XMqcHd-lbqH"
      },
      "source": [
        "## work in progress"
      ]
    },
    {
      "cell_type": "code",
      "execution_count": 19,
      "metadata": {
        "_cell_guid": "7fbffc92-2c8b-e384-77a1-f042762c0593",
        "colab": {
          "base_uri": "https://localhost:8080/",
          "height": 777
        },
        "id": "MFORdAHnlbqH",
        "outputId": "44ffcf48-f40d-4f76-b487-0feeaaf5c57f"
      },
      "outputs": [
        {
          "output_type": "stream",
          "name": "stdout",
          "text": [
            "1/1 [==============================] - 1s 810ms/step\n",
            "[[0.5636368]]\n",
            "1/1 [==============================] - 0s 22ms/step\n",
            "1/1 [==============================] - 1s 769ms/step\n",
            "[[1.2527319]]\n",
            "1/1 [==============================] - 0s 21ms/step\n",
            "1/1 [==============================] - 0s 21ms/step\n",
            "[[2.431441]]\n",
            "1/1 [==============================] - 0s 21ms/step\n",
            "1/1 [==============================] - 0s 23ms/step\n",
            "[[4.2324495]]\n",
            "1/1 [==============================] - 0s 22ms/step\n",
            "1/1 [==============================] - 0s 24ms/step\n",
            "[[6.155529]]\n",
            "1/1 [==============================] - 0s 26ms/step\n",
            "[[ 34.356926]\n",
            " [ 62.80277 ]\n",
            " [111.459885]\n",
            " [185.80551 ]\n",
            " [265.19022 ]]\n"
          ]
        },
        {
          "output_type": "display_data",
          "data": {
            "text/plain": [
              "<Figure size 640x480 with 1 Axes>"
            ],
            "image/png": "[encoded data removed]"
          },
          "metadata": {}
        }
      ],
      "source": [
        "def plot_results_multiple(predicted_data, true_data,length):\n",
        "    plt.plot(scaler.inverse_transform(true_data.reshape(-1, 1))[length:])\n",
        "    plt.plot(scaler.inverse_transform(np.array(predicted_data).reshape(-1, 1))[length:])\n",
        "    plt.show()\n",
        "\n",
        "#predict lenght consecutive values from a real one\n",
        "def predict_sequences_multiple(model, firstValue,length):\n",
        "    prediction_seqs = []\n",
        "    curr_frame = firstValue\n",
        "\n",
        "    for i in range(length):\n",
        "        predicted = []\n",
        "\n",
        "        print(model.predict(curr_frame[newaxis,:,:]))\n",
        "        predicted.append(model.predict(curr_frame[newaxis,:,:])[0,0])\n",
        "\n",
        "        curr_frame = curr_frame[0:]\n",
        "        curr_frame = np.insert(curr_frame[0:], i+1, predicted[-1], axis=0)\n",
        "\n",
        "        prediction_seqs.append(predicted[-1])\n",
        "\n",
        "    return prediction_seqs\n",
        "\n",
        "predict_length=5\n",
        "predictions = predict_sequences_multiple(model, testX[0], predict_length)\n",
        "print(scaler.inverse_transform(np.array(predictions).reshape(-1, 1)))\n",
        "plot_results_multiple(predictions, testY, predict_length)"
      ]
    },
    {
      "cell_type": "markdown",
      "source": [
        "\n",
        "\n",
        "---"
      ],
      "metadata": {
        "id": "xtoxZVCGgehS"
      }
    }
  ],
  "metadata": {
    "_change_revision": 903,
    "_is_fork": false,
    "kernelspec": {
      "display_name": "Python 3",
      "language": "python",
      "name": "python3"
    },
    "language_info": {
      "codemirror_mode": {
        "name": "ipython",
        "version": 3
      },
      "file_extension": ".py",
      "mimetype": "text/x-python",
      "name": "python",
      "nbconvert_exporter": "python",
      "pygments_lexer": "ipython3",
      "version": "3.6.0"
    },
    "colab": {
      "provenance": [],
      "include_colab_link": true
    }
  },
  "nbformat": 4,
  "nbformat_minor": 0
}