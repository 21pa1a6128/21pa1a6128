{
  "nbformat": 4,
  "nbformat_minor": 0,
  "metadata": {
    "colab": {
      "provenance": [],
      "authorship_tag": "ABX9TyNOYPaKOLsMWpLIb1jo1+4d",
      "include_colab_link": true
    },
    "kernelspec": {
      "name": "python3",
      "display_name": "Python 3"
    },
    "language_info": {
      "name": "python"
    }
  },
  "cells": [
    {
      "cell_type": "markdown",
      "metadata": {
        "id": "view-in-github",
        "colab_type": "text"
      },
      "source": [
        "<a href=\"https://colab.research.google.com/github/21pa1a6128/21pa1a6128/blob/main/deeplearning1.ipynb\" target=\"_parent\"><img src=\"https://colab.research.google.com/assets/colab-badge.svg\" alt=\"Open In Colab\"/></a>"
      ]
    },
    {
      "cell_type": "code",
      "execution_count": 39,
      "metadata": {
        "id": "ffhJesPlDemA"
      },
      "outputs": [],
      "source": [
        "import numpy as np\n",
        "import random\n",
        "def step(n):\n",
        "  if(n<0):return -1\n",
        "  return 1"
      ]
    },
    {
      "cell_type": "code",
      "source": [
        "def prediction(x,w,b):\n",
        "  return step((np.matmul(x,w)+b))"
      ],
      "metadata": {
        "id": "1skjzyfKDovj"
      },
      "execution_count": 40,
      "outputs": []
    },
    {
      "cell_type": "code",
      "source": [
        "prediction(np.array([1,2,3]),np.array([4,5,6]),1)"
      ],
      "metadata": {
        "colab": {
          "base_uri": "https://localhost:8080/"
        },
        "id": "L-ATCW6sE8Eh",
        "outputId": "2647f1c2-fb79-4aed-d147-085497d3d86a"
      },
      "execution_count": 41,
      "outputs": [
        {
          "output_type": "execute_result",
          "data": {
            "text/plain": [
              "1"
            ]
          },
          "metadata": {},
          "execution_count": 41
        }
      ]
    },
    {
      "cell_type": "code",
      "source": [
        "# and , or operation"
      ],
      "metadata": {
        "id": "9ToerMJhFBTS"
      },
      "execution_count": 42,
      "outputs": []
    },
    {
      "cell_type": "code",
      "source": [
        "np.array([1,2,3])*np.array([4,5,6])"
      ],
      "metadata": {
        "colab": {
          "base_uri": "https://localhost:8080/"
        },
        "id": "zn9nKgQ5Fs1D",
        "outputId": "9501918b-2e82-432a-b094-09d1e20f3aa7"
      },
      "execution_count": 43,
      "outputs": [
        {
          "output_type": "execute_result",
          "data": {
            "text/plain": [
              "array([ 4, 10, 18])"
            ]
          },
          "metadata": {},
          "execution_count": 43
        }
      ]
    },
    {
      "cell_type": "code",
      "source": [
        "def andlogic(x):\n",
        "  return step(np.dot(np.array(x),np.array([1,1]))-1.5)"
      ],
      "metadata": {
        "id": "XeYwyOynMkKW"
      },
      "execution_count": 44,
      "outputs": []
    },
    {
      "cell_type": "code",
      "source": [
        "andlogic([1,0])"
      ],
      "metadata": {
        "colab": {
          "base_uri": "https://localhost:8080/"
        },
        "id": "zv2Eu4d5OMZg",
        "outputId": "d672d85e-2a6f-4f82-b73a-6468c3adff80"
      },
      "execution_count": 45,
      "outputs": [
        {
          "output_type": "execute_result",
          "data": {
            "text/plain": [
              "-1"
            ]
          },
          "metadata": {},
          "execution_count": 45
        }
      ]
    },
    {
      "cell_type": "code",
      "source": [
        "# implementing and , or gates using simples percenptron"
      ],
      "metadata": {
        "id": "1kVihc6tSnHe"
      },
      "execution_count": 46,
      "outputs": []
    },
    {
      "cell_type": "code",
      "source": [
        "def and_or(gates):\n",
        "  bais=(1,)\n",
        "  learning_rate=0.1\n",
        "  weights=[]\n",
        "  for i in range(3):\n",
        "    weights.append(random.uniform(-1,1))\n",
        "  trains=50\n",
        "  for _ in range(trains):\n",
        "    inputs,expected=random.choice(gates)\n",
        "    inputs=inputs+bais\n",
        "    weighted_sum=np.dot(inputs,weights)\n",
        "    pred=step(weighted_sum)\n",
        "    error=pred-expected\n",
        "    weights+=learning_rate * error * np.asarray(inputs)\n",
        "  input,expected=random.choice(gates)\n",
        "  input=input+bais\n",
        "  weighted_sum=np.dot(input,weights)\n",
        "  pred=step(weighted_sum)\n",
        "  print(\"given input v : \",input)\n",
        "  print(\"weighted sum obtained : \",weighted_sum)\n",
        "  print(\"predicted output : \",pred)\n",
        "  print(\"expected output : \",expected)"
      ],
      "metadata": {
        "id": "e9lKpDajVc-C"
      },
      "execution_count": 47,
      "outputs": []
    },
    {
      "cell_type": "code",
      "source": [
        "and_logic=[[(1,1),1],[(1,-1),-1],[(-1,1),-1],[(-1,-1),-1]]\n",
        "or_logic=[[(1,1),1],[(1,-1),1],[(-1,1),1],[(-1,-1),-1]]\n",
        "\n",
        "test=2\n",
        "for i in range(test):\n",
        "  and_or(and_logic)\n",
        "  and_or(or_logic)"
      ],
      "metadata": {
        "colab": {
          "base_uri": "https://localhost:8080/"
        },
        "id": "-PPp5LjHVg3Z",
        "outputId": "409e4b23-5dbb-4ea4-b62e-c8087c0f9ea3"
      },
      "execution_count": 48,
      "outputs": [
        {
          "output_type": "stream",
          "name": "stdout",
          "text": [
            "given input v :  (1, -1, 1)\n",
            "weighted sum obtained :  -1.0660214332167988\n",
            "predicted output :  -1\n",
            "expected output :  -1\n",
            "given input v :  (1, -1, 1)\n",
            "weighted sum obtained :  -8.841640649904736\n",
            "predicted output :  -1\n",
            "expected output :  1\n",
            "given input v :  (1, 1, 1)\n",
            "weighted sum obtained :  2.174711129945775\n",
            "predicted output :  1\n",
            "expected output :  1\n",
            "given input v :  (1, -1, 1)\n",
            "weighted sum obtained :  1.8868512166320341\n",
            "predicted output :  1\n",
            "expected output :  1\n"
          ]
        }
      ]
    },
    {
      "cell_type": "code",
      "source": [
        "(1,1)+(1,)"
      ],
      "metadata": {
        "colab": {
          "base_uri": "https://localhost:8080/"
        },
        "id": "aqnpYFLKcJGo",
        "outputId": "92c2320a-b9c5-4a67-a05d-7a9332052882"
      },
      "execution_count": 30,
      "outputs": [
        {
          "output_type": "execute_result",
          "data": {
            "text/plain": [
              "(1, 1, 1)"
            ]
          },
          "metadata": {},
          "execution_count": 30
        }
      ]
    },
    {
      "cell_type": "code",
      "source": [],
      "metadata": {
        "id": "3-iUXcjwcjq4"
      },
      "execution_count": null,
      "outputs": []
    }
  ]
}